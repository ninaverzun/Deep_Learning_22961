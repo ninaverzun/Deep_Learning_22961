{
  "cells": [
    {
      "cell_type": "markdown",
      "metadata": {
        "id": "view-in-github",
        "colab_type": "text"
      },
      "source": [
        "<a href=\"https://colab.research.google.com/github/ninaverzun/Deep_Learning_22961/blob/main/Copy_of_Nina_HaterReentryClassifier.ipynb\" target=\"_parent\"><img src=\"https://colab.research.google.com/assets/colab-badge.svg\" alt=\"Open In Colab\"/></a>"
      ]
    },
    {
      "cell_type": "code",
      "execution_count": null,
      "metadata": {
        "colab": {
          "base_uri": "https://localhost:8080/"
        },
        "id": "Lv7HStxn4KhV",
        "outputId": "24ff959a-7817-4600-e3b3-1632e1c23a4a"
      },
      "outputs": [
        {
          "output_type": "stream",
          "name": "stdout",
          "text": [
            "Mon Feb 24 16:09:02 2025       \n",
            "+-----------------------------------------------------------------------------------------+\n",
            "| NVIDIA-SMI 560.41                 Driver Version: 561.03         CUDA Version: 12.6     |\n",
            "|-----------------------------------------+------------------------+----------------------+\n",
            "| GPU  Name                 Persistence-M | Bus-Id          Disp.A | Volatile Uncorr. ECC |\n",
            "| Fan  Temp   Perf          Pwr:Usage/Cap |           Memory-Usage | GPU-Util  Compute M. |\n",
            "|                                         |                        |               MIG M. |\n",
            "|=========================================+========================+======================|\n",
            "|   0  NVIDIA GeForce RTX 4070 ...    On  |   00000000:01:00.0 Off |                  N/A |\n",
            "| N/A   58C    P8              1W /  135W |       0MiB /   8188MiB |      0%      Default |\n",
            "|                                         |                        |                  N/A |\n",
            "+-----------------------------------------+------------------------+----------------------+\n",
            "                                                                                         \n",
            "+-----------------------------------------------------------------------------------------+\n",
            "| Processes:                                                                              |\n",
            "|  GPU   GI   CI        PID   Type   Process name                              GPU Memory |\n",
            "|        ID   ID                                                               Usage      |\n",
            "|=========================================================================================|\n",
            "|    0   N/A  N/A      1603      C   /python3.10                                 N/A      |\n",
            "+-----------------------------------------------------------------------------------------+\n"
          ]
        }
      ],
      "source": [
        "# Verify GPU availability\n",
        "gpu_info = !nvidia-smi\n",
        "gpu_info = '\\n'.join(gpu_info)\n",
        "if gpu_info.find('failed') >= 0:\n",
        "  print('Not connected to a GPU')\n",
        "else:\n",
        "  print(gpu_info)"
      ]
    },
    {
      "cell_type": "code",
      "execution_count": null,
      "metadata": {
        "colab": {
          "base_uri": "https://localhost:8080/"
        },
        "id": "zPMBvBqmOsbh",
        "outputId": "6e9f49d4-2902-4b96-f295-368990c8a0bc"
      },
      "outputs": [
        {
          "output_type": "stream",
          "name": "stdout",
          "text": [
            "Requirement already satisfied: transformers in /usr/local/lib/python3.10/dist-packages (4.47.0)\n",
            "Requirement already satisfied: filelock in /usr/local/lib/python3.10/dist-packages (from transformers) (3.16.1)\n",
            "Requirement already satisfied: huggingface-hub<1.0,>=0.24.0 in /usr/local/lib/python3.10/dist-packages (from transformers) (0.27.0)\n",
            "Requirement already satisfied: numpy>=1.17 in /usr/local/lib/python3.10/dist-packages (from transformers) (1.26.4)\n",
            "Requirement already satisfied: packaging>=20.0 in /usr/local/lib/python3.10/dist-packages (from transformers) (24.2)\n",
            "Requirement already satisfied: pyyaml>=5.1 in /usr/local/lib/python3.10/dist-packages (from transformers) (6.0.2)\n",
            "Requirement already satisfied: regex!=2019.12.17 in /usr/local/lib/python3.10/dist-packages (from transformers) (2024.11.6)\n",
            "Requirement already satisfied: requests in /usr/local/lib/python3.10/dist-packages (from transformers) (2.32.3)\n",
            "Requirement already satisfied: tokenizers<0.22,>=0.21 in /usr/local/lib/python3.10/dist-packages (from transformers) (0.21.0)\n",
            "Requirement already satisfied: safetensors>=0.4.1 in /usr/local/lib/python3.10/dist-packages (from transformers) (0.4.5)\n",
            "Requirement already satisfied: tqdm>=4.27 in /usr/local/lib/python3.10/dist-packages (from transformers) (4.67.1)\n",
            "Requirement already satisfied: fsspec>=2023.5.0 in /usr/local/lib/python3.10/dist-packages (from huggingface-hub<1.0,>=0.24.0->transformers) (2024.10.0)\n",
            "Requirement already satisfied: typing-extensions>=3.7.4.3 in /usr/local/lib/python3.10/dist-packages (from huggingface-hub<1.0,>=0.24.0->transformers) (4.12.2)\n",
            "Requirement already satisfied: charset-normalizer<4,>=2 in /usr/local/lib/python3.10/dist-packages (from requests->transformers) (3.4.0)\n",
            "Requirement already satisfied: idna<4,>=2.5 in /usr/local/lib/python3.10/dist-packages (from requests->transformers) (3.10)\n",
            "Requirement already satisfied: urllib3<3,>=1.21.1 in /usr/local/lib/python3.10/dist-packages (from requests->transformers) (2.2.3)\n",
            "Requirement already satisfied: certifi>=2017.4.17 in /usr/local/lib/python3.10/dist-packages (from requests->transformers) (2024.12.14)\n",
            "Requirement already satisfied: torch in /usr/local/lib/python3.10/dist-packages (2.5.1+cu121)\n",
            "Requirement already satisfied: filelock in /usr/local/lib/python3.10/dist-packages (from torch) (3.16.1)\n",
            "Requirement already satisfied: typing-extensions>=4.8.0 in /usr/local/lib/python3.10/dist-packages (from torch) (4.12.2)\n",
            "Requirement already satisfied: networkx in /usr/local/lib/python3.10/dist-packages (from torch) (3.4.2)\n",
            "Requirement already satisfied: jinja2 in /usr/local/lib/python3.10/dist-packages (from torch) (3.1.4)\n",
            "Requirement already satisfied: fsspec in /usr/local/lib/python3.10/dist-packages (from torch) (2024.10.0)\n",
            "Requirement already satisfied: sympy==1.13.1 in /usr/local/lib/python3.10/dist-packages (from torch) (1.13.1)\n",
            "Requirement already satisfied: mpmath<1.4,>=1.1.0 in /usr/local/lib/python3.10/dist-packages (from sympy==1.13.1->torch) (1.3.0)\n",
            "Requirement already satisfied: MarkupSafe>=2.0 in /usr/local/lib/python3.10/dist-packages (from jinja2->torch) (3.0.2)\n",
            "Requirement already satisfied: scikit-learn in /usr/local/lib/python3.10/dist-packages (1.6.0)\n",
            "Requirement already satisfied: numpy>=1.19.5 in /usr/local/lib/python3.10/dist-packages (from scikit-learn) (1.26.4)\n",
            "Requirement already satisfied: scipy>=1.6.0 in /usr/local/lib/python3.10/dist-packages (from scikit-learn) (1.13.1)\n",
            "Requirement already satisfied: joblib>=1.2.0 in /usr/local/lib/python3.10/dist-packages (from scikit-learn) (1.4.2)\n",
            "Requirement already satisfied: threadpoolctl>=3.1.0 in /usr/local/lib/python3.10/dist-packages (from scikit-learn) (3.5.0)\n",
            "Requirement already satisfied: pandas in /usr/local/lib/python3.10/dist-packages (2.2.2)\n",
            "Requirement already satisfied: numpy>=1.22.4 in /usr/local/lib/python3.10/dist-packages (from pandas) (1.26.4)\n",
            "Requirement already satisfied: python-dateutil>=2.8.2 in /usr/local/lib/python3.10/dist-packages (from pandas) (2.8.2)\n",
            "Requirement already satisfied: pytz>=2020.1 in /usr/local/lib/python3.10/dist-packages (from pandas) (2024.2)\n",
            "Requirement already satisfied: tzdata>=2022.7 in /usr/local/lib/python3.10/dist-packages (from pandas) (2024.2)\n",
            "Requirement already satisfied: six>=1.5 in /usr/local/lib/python3.10/dist-packages (from python-dateutil>=2.8.2->pandas) (1.17.0)\n",
            "Requirement already satisfied: matplotlib in /usr/local/lib/python3.10/dist-packages (3.8.0)\n",
            "Requirement already satisfied: contourpy>=1.0.1 in /usr/local/lib/python3.10/dist-packages (from matplotlib) (1.3.1)\n",
            "Requirement already satisfied: cycler>=0.10 in /usr/local/lib/python3.10/dist-packages (from matplotlib) (0.12.1)\n",
            "Requirement already satisfied: fonttools>=4.22.0 in /usr/local/lib/python3.10/dist-packages (from matplotlib) (4.55.3)\n",
            "Requirement already satisfied: kiwisolver>=1.0.1 in /usr/local/lib/python3.10/dist-packages (from matplotlib) (1.4.7)\n",
            "Requirement already satisfied: numpy<2,>=1.21 in /usr/local/lib/python3.10/dist-packages (from matplotlib) (1.26.4)\n",
            "Requirement already satisfied: packaging>=20.0 in /usr/local/lib/python3.10/dist-packages (from matplotlib) (24.2)\n",
            "Requirement already satisfied: pillow>=6.2.0 in /usr/local/lib/python3.10/dist-packages (from matplotlib) (11.0.0)\n",
            "Requirement already satisfied: pyparsing>=2.3.1 in /usr/local/lib/python3.10/dist-packages (from matplotlib) (3.2.0)\n",
            "Requirement already satisfied: python-dateutil>=2.7 in /usr/local/lib/python3.10/dist-packages (from matplotlib) (2.8.2)\n",
            "Requirement already satisfied: six>=1.5 in /usr/local/lib/python3.10/dist-packages (from python-dateutil>=2.7->matplotlib) (1.17.0)\n"
          ]
        }
      ],
      "source": [
        "# Sure! Below is a Google Colab notebook code that includes the necessary installations, CSV loading, and the training code for the BERT-based classifier.\n",
        "\n",
        "# ```python\n",
        "# Install necessary libraries\n",
        "# Install necessary libraries\n",
        "!pip install transformers\n",
        "!pip install torch\n",
        "!pip install scikit-learn\n",
        "!pip install pandas\n",
        "!pip install matplotlib\n",
        "\n",
        "# Import libraries\n",
        "import pandas as pd\n",
        "from sklearn.model_selection import train_test_split\n",
        "from sklearn.metrics import classification_report, roc_curve, auc\n",
        "from transformers import BertTokenizer, BertForSequenceClassification, Trainer, TrainingArguments, EarlyStoppingCallback, TrainerCallback\n",
        "from transformers import RobertaTokenizer, RobertaForSequenceClassification\n",
        "import torch\n",
        "import matplotlib.pyplot as plt\n",
        "\n",
        "# Load the CSV file into a DataFrame\n",
        "from google.colab import files\n",
        "# uploaded = files.upload()\n"
      ]
    },
    {
      "cell_type": "code",
      "source": [
        "import requests\n",
        "import io\n",
        "import pandas as pd\n",
        "\n",
        "csv_file_url='https://drive.google.com/file/d/1NXak65zH58IOi_cOFYoHDB1a9f3Rx6qz/view?usp=drive_link'\n",
        "\n",
        "# Extract the file ID from the URL\n",
        "file_id = csv_file_url.split('/')[-2]\n",
        "\n",
        "# Construct the download URL\n",
        "download_url = f'https://drive.google.com/uc?id={file_id}&export=download'\n",
        "\n",
        "# Download the file using requests\n",
        "response = requests.get(download_url)\n",
        "response.raise_for_status()  # Raise an exception for bad responses\n",
        "\n",
        "# Load the file content into a pandas DataFrame\n",
        "df = pd.read_csv(io.StringIO(response.text))\n",
        "\n",
        "# Now you can use the DataFrame 'df' as before"
      ],
      "metadata": {
        "id": "ayw3_pHFG_H4"
      },
      "execution_count": null,
      "outputs": []
    },
    {
      "cell_type": "code",
      "source": [
        "# import pandas as pd\n",
        "\n",
        "# # Path to your file in Google Drive\n",
        "# # file_path = 'https://drive.google.com/file/d/1NXak65zH58IOi_cOFYoHDB1a9f3Rx6qz/view?usp=drive_link'\n",
        "\n",
        "# file_path = '/content/drive/My Drive/CounterspeechProject/hater_reentry_dataset.csv'\n",
        "\n",
        "# # Assuming the uploaded file is named 'data.csv'\n",
        "# df = pd.read_csv(file_path)\n"
      ],
      "metadata": {
        "id": "MsVtVk_XHHpC"
      },
      "execution_count": null,
      "outputs": []
    },
    {
      "cell_type": "code",
      "execution_count": null,
      "metadata": {
        "colab": {
          "base_uri": "https://localhost:8080/"
        },
        "id": "r-xg7Et2PnyA",
        "outputId": "a8f44169-3904-45f3-8c17-fa30086714ba"
      },
      "outputs": [
        {
          "output_type": "stream",
          "name": "stdout",
          "text": [
            "   index  grandID parentID          grandAuthor          parentAuthor  \\\n",
            "0      0  gzggf5w  gzghi8r       Anubisrising89         Zombieattackr   \n",
            "1      1  gzkuqhr  gzl4ccm       Anubisrising89  psychedelic_hypnosis   \n",
            "2      2  h0k6pu1  h0orb44  Soy_based_socialism         Bull_Winkle69   \n",
            "3      3  gotpjyl  gotwcvk       Anubisrising89     BruceJennersPen15   \n",
            "4      4  gotpjyl  gou1yhg       Anubisrising89               Cityman   \n",
            "\n",
            "             sonAuthor    gandTime  parentTime  grandScore  parentScore  \\\n",
            "0       Anubisrising89  1621989035  1621989585           3            2   \n",
            "1       Anubisrising89  1622073736  1622078483           1            1   \n",
            "2  Soy_based_socialism  1622810237  1622902133           3            1   \n",
            "3       Anubisrising89  1614344871  1614348672           0            1   \n",
            "4       Anubisrising89  1614344871  1614351391           0            2   \n",
            "\n",
            "                                        grandContent  \\\n",
            "0                        How about fuck neither one.   \n",
            "1  What is China then? Ot ain't a fuckin democrac...   \n",
            "2  They cant. Because they'd get tossed off a bui...   \n",
            "3  At least we didn't elect a child sniffing deme...   \n",
            "4  At least we didn't elect a child sniffing deme...   \n",
            "\n",
            "                                       parentContent grandSubmission  \\\n",
            "0  Yeah I agree, but given that they‚Äôre protest...          nks2fa   \n",
            "1  1st of all you're right they are not a democra...          nks2fa   \n",
            "2  \"They CAN\", because they'd get tossed off a bu...          nrjir0   \n",
            "3  Obama played a total of 333 rounds in his enti...          lscjf4   \n",
            "4  Yeah, you just elected someone who's a child r...          lscjf4   \n",
            "\n",
            "   3_category  \n",
            "0           0  \n",
            "1           0  \n",
            "2           0  \n",
            "3           0  \n",
            "4           1  \n",
            "Index(['index', 'grandID', 'parentID', 'grandAuthor', 'parentAuthor',\n",
            "       'sonAuthor', 'gandTime', 'parentTime', 'grandScore', 'parentScore',\n",
            "       'grandContent', 'parentContent', 'grandSubmission', '3_category'],\n",
            "      dtype='object')\n",
            "RangeIndex(start=0, stop=27941, step=1)\n",
            "   index  grandID parentID          grandAuthor          parentAuthor  \\\n",
            "0      0  gzggf5w  gzghi8r       Anubisrising89         Zombieattackr   \n",
            "1      1  gzkuqhr  gzl4ccm       Anubisrising89  psychedelic_hypnosis   \n",
            "2      2  h0k6pu1  h0orb44  Soy_based_socialism         Bull_Winkle69   \n",
            "3      3  gotpjyl  gotwcvk       Anubisrising89     BruceJennersPen15   \n",
            "4      4  gotpjyl  gou1yhg       Anubisrising89               Cityman   \n",
            "\n",
            "             sonAuthor    gandTime  parentTime  grandScore  parentScore  \\\n",
            "0       Anubisrising89  1621989035  1621989585           3            2   \n",
            "1       Anubisrising89  1622073736  1622078483           1            1   \n",
            "2  Soy_based_socialism  1622810237  1622902133           3            1   \n",
            "3       Anubisrising89  1614344871  1614348672           0            1   \n",
            "4       Anubisrising89  1614344871  1614351391           0            2   \n",
            "\n",
            "                                        grandContent  \\\n",
            "0                        How about fuck neither one.   \n",
            "1  What is China then? Ot ain't a fuckin democrac...   \n",
            "2  They cant. Because they'd get tossed off a bui...   \n",
            "3  At least we didn't elect a child sniffing deme...   \n",
            "4  At least we didn't elect a child sniffing deme...   \n",
            "\n",
            "                                       parentContent grandSubmission  \\\n",
            "0  Yeah I agree, but given that they‚Äôre protest...          nks2fa   \n",
            "1  1st of all you're right they are not a democra...          nks2fa   \n",
            "2  \"They CAN\", because they'd get tossed off a bu...          nrjir0   \n",
            "3  Obama played a total of 333 rounds in his enti...          lscjf4   \n",
            "4  Yeah, you just elected someone who's a child r...          lscjf4   \n",
            "\n",
            "   3_category  \n",
            "0           0  \n",
            "1           0  \n",
            "2           0  \n",
            "3           0  \n",
            "4           1  \n",
            "RangeIndex(start=0, stop=27941, step=1)\n"
          ]
        }
      ],
      "source": [
        "\n",
        "# Inspect the DataFrame\n",
        "print(df.head())\n",
        "print(df.columns)\n",
        "\n",
        "df.head()\n",
        "\n",
        "# Verify the DataFrame index\n",
        "print(df.index)\n",
        "\n",
        "# Reset the index\n",
        "df.reset_index(drop=True, inplace=True)\n",
        "\n",
        "# Inspect the DataFrame again\n",
        "print(df.head())\n",
        "print(df.index)\n"
      ]
    },
    {
      "cell_type": "code",
      "execution_count": null,
      "metadata": {
        "colab": {
          "base_uri": "https://localhost:8080/"
        },
        "id": "TNbqDcoMXUgU",
        "outputId": "90cd0c37-3790-46b8-c2aa-2fa31ef5bdf2"
      },
      "outputs": [
        {
          "output_type": "stream",
          "name": "stdout",
          "text": [
            "   index  grandID parentID          grandAuthor          parentAuthor  \\\n",
            "0      0  gzggf5w  gzghi8r       Anubisrising89         Zombieattackr   \n",
            "1      1  gzkuqhr  gzl4ccm       Anubisrising89  psychedelic_hypnosis   \n",
            "2      2  h0k6pu1  h0orb44  Soy_based_socialism         Bull_Winkle69   \n",
            "3      3  gotpjyl  gotwcvk       Anubisrising89     BruceJennersPen15   \n",
            "4      4  gotpjyl  gou1yhg       Anubisrising89               Cityman   \n",
            "\n",
            "             sonAuthor    gandTime  parentTime  grandScore  parentScore  \\\n",
            "0       Anubisrising89  1621989035  1621989585           3            2   \n",
            "1       Anubisrising89  1622073736  1622078483           1            1   \n",
            "2  Soy_based_socialism  1622810237  1622902133           3            1   \n",
            "3       Anubisrising89  1614344871  1614348672           0            1   \n",
            "4       Anubisrising89  1614344871  1614351391           0            2   \n",
            "\n",
            "                                        grandContent  \\\n",
            "0                        How about fuck neither one.   \n",
            "1  What is China then? Ot ain't a fuckin democrac...   \n",
            "2  They cant. Because they'd get tossed off a bui...   \n",
            "3  At least we didn't elect a child sniffing deme...   \n",
            "4  At least we didn't elect a child sniffing deme...   \n",
            "\n",
            "                                       parentContent grandSubmission  \\\n",
            "0  Yeah I agree, but given that they‚Äôre protest...          nks2fa   \n",
            "1  1st of all you're right they are not a democra...          nks2fa   \n",
            "2  \"They CAN\", because they'd get tossed off a bu...          nrjir0   \n",
            "3  Obama played a total of 333 rounds in his enti...          lscjf4   \n",
            "4  Yeah, you just elected someone who's a child r...          lscjf4   \n",
            "\n",
            "   3_category                                    combinedContent  \n",
            "0           0  Yeah I agree, but given that they‚Äôre protest...  \n",
            "1           0  1st of all you're right they are not a democra...  \n",
            "2           0  \"They CAN\", because they'd get tossed off a bu...  \n",
            "3           0  Obama played a total of 333 rounds in his enti...  \n",
            "4           1  Yeah, you just elected someone who's a child r...  \n",
            "Index(['index', 'grandID', 'parentID', 'grandAuthor', 'parentAuthor',\n",
            "       'sonAuthor', 'gandTime', 'parentTime', 'grandScore', 'parentScore',\n",
            "       'grandContent', 'parentContent', 'grandSubmission', '3_category',\n",
            "       'combinedContent'],\n",
            "      dtype='object')\n",
            "RangeIndex(start=0, stop=27941, step=1)\n",
            "   index  grandID parentID          grandAuthor          parentAuthor  \\\n",
            "0      0  gzggf5w  gzghi8r       Anubisrising89         Zombieattackr   \n",
            "1      1  gzkuqhr  gzl4ccm       Anubisrising89  psychedelic_hypnosis   \n",
            "2      2  h0k6pu1  h0orb44  Soy_based_socialism         Bull_Winkle69   \n",
            "3      3  gotpjyl  gotwcvk       Anubisrising89     BruceJennersPen15   \n",
            "4      4  gotpjyl  gou1yhg       Anubisrising89               Cityman   \n",
            "\n",
            "             sonAuthor    gandTime  parentTime  grandScore  parentScore  \\\n",
            "0       Anubisrising89  1621989035  1621989585           3            2   \n",
            "1       Anubisrising89  1622073736  1622078483           1            1   \n",
            "2  Soy_based_socialism  1622810237  1622902133           3            1   \n",
            "3       Anubisrising89  1614344871  1614348672           0            1   \n",
            "4       Anubisrising89  1614344871  1614351391           0            2   \n",
            "\n",
            "                                        grandContent  \\\n",
            "0                        How about fuck neither one.   \n",
            "1  What is China then? Ot ain't a fuckin democrac...   \n",
            "2  They cant. Because they'd get tossed off a bui...   \n",
            "3  At least we didn't elect a child sniffing deme...   \n",
            "4  At least we didn't elect a child sniffing deme...   \n",
            "\n",
            "                                       parentContent grandSubmission  \\\n",
            "0  Yeah I agree, but given that they‚Äôre protest...          nks2fa   \n",
            "1  1st of all you're right they are not a democra...          nks2fa   \n",
            "2  \"They CAN\", because they'd get tossed off a bu...          nrjir0   \n",
            "3  Obama played a total of 333 rounds in his enti...          lscjf4   \n",
            "4  Yeah, you just elected someone who's a child r...          lscjf4   \n",
            "\n",
            "   3_category                                    combinedContent  \n",
            "0           0  Yeah I agree, but given that they‚Äôre protest...  \n",
            "1           0  1st of all you're right they are not a democra...  \n",
            "2           0  \"They CAN\", because they'd get tossed off a bu...  \n",
            "3           0  Obama played a total of 333 rounds in his enti...  \n",
            "4           1  Yeah, you just elected someone who's a child r...  \n",
            "RangeIndex(start=0, stop=27941, step=1)\n",
            "int64\n"
          ]
        }
      ],
      "source": [
        "# Extract the relevant columns for training\n",
        "# df = df[['parentContent', '3_category']].copy()  # Use .copy() to create a copy of the slice\n",
        "df['combinedContent'] = df['parentContent'] + ' ' + df['grandContent']\n",
        "\n",
        "df.head()\n",
        "# Inspect the DataFrame\n",
        "print(df.head())\n",
        "print(df.columns)\n",
        "\n",
        "# Verify the DataFrame index\n",
        "print(df.index)\n",
        "\n",
        "# Reset the index\n",
        "df.reset_index(drop=True, inplace=True)\n",
        "\n",
        "# Inspect the DataFrame again\n",
        "print(df.head())\n",
        "print(df.index)\n",
        "\n",
        "print(df['3_category'].dtype)"
      ]
    },
    {
      "cell_type": "code",
      "execution_count": null,
      "metadata": {
        "colab": {
          "base_uri": "https://localhost:8080/"
        },
        "id": "UCC0mTeDbbM9",
        "outputId": "a88b95ed-b63e-456d-c313-40ab3844d3a7"
      },
      "outputs": [
        {
          "output_type": "stream",
          "name": "stdout",
          "text": [
            "index              0\n",
            "grandID            0\n",
            "parentID           0\n",
            "grandAuthor        0\n",
            "parentAuthor       0\n",
            "sonAuthor          0\n",
            "gandTime           0\n",
            "parentTime         0\n",
            "grandScore         0\n",
            "parentScore        0\n",
            "grandContent       0\n",
            "parentContent      0\n",
            "grandSubmission    0\n",
            "3_category         0\n",
            "combinedContent    0\n",
            "dtype: int64\n",
            "int64\n"
          ]
        },
        {
          "output_type": "stream",
          "name": "stderr",
          "text": [
            "<ipython-input-43-7a57c2a36499>:6: FutureWarning: A value is trying to be set on a copy of a DataFrame or Series through chained assignment using an inplace method.\n",
            "The behavior will change in pandas 3.0. This inplace method will never work because the intermediate object on which we are setting values always behaves as a copy.\n",
            "\n",
            "For example, when doing 'df[col].method(value, inplace=True)', try using 'df.method({col: value}, inplace=True)' or df[col] = df[col].method(value) instead, to perform the operation inplace on the original object.\n",
            "\n",
            "\n",
            "  df['3_category'].fillna(df['3_category'].mode()[0], inplace=True)\n"
          ]
        }
      ],
      "source": [
        "# Check for missing values\n",
        "print(df.isnull().sum())\n",
        "\n",
        "# Replace non-finite values with the mode of the column\n",
        "df['3_category'] = df['3_category'].replace([float('inf'), float('-inf')], pd.NA)\n",
        "df['3_category'].fillna(df['3_category'].mode()[0], inplace=True)\n",
        "\n",
        "# Convert the '3_category' column to integers\n",
        "df['3_category'] = df['3_category'].astype(int)\n",
        "\n",
        "print(df['3_category'].dtype)"
      ]
    },
    {
      "cell_type": "code",
      "execution_count": null,
      "metadata": {
        "colab": {
          "base_uri": "https://localhost:8080/"
        },
        "id": "llyOTzEIbcCo",
        "outputId": "949b04f1-6dc7-4109-8cb3-f5ead518a76c"
      },
      "outputs": [
        {
          "output_type": "stream",
          "name": "stdout",
          "text": [
            "int64\n",
            "int64\n"
          ]
        }
      ],
      "source": [
        "# Map the categories to integers\n",
        "category_mapping = {0: 0, 1: 1, 2: 2}\n",
        "print(df['3_category'].dtype)\n",
        "\n",
        "df['3_category'] = df['3_category'].map(category_mapping)\n",
        "\n",
        "print(df['3_category'].dtype)"
      ]
    },
    {
      "cell_type": "code",
      "source": [
        "use_saved_split=False"
      ],
      "metadata": {
        "id": "g_8ECDVPsuMo"
      },
      "execution_count": null,
      "outputs": []
    },
    {
      "cell_type": "code",
      "source": [
        "if use_saved_split:\n",
        "  train_df = pd.read_csv('train.csv')  # Assuming train.csv is in the same directory as your notebook\n",
        "  test_df = pd.read_csv('test.csv')\n",
        "  val_df = pd.read_csv('val.csv')\n",
        "else:\n",
        "  # Split the data into training, validation, and testing sets\n",
        "  train_texts, temp_texts, train_labels, temp_labels = train_test_split(df['combinedContent'], df['3_category'], test_size=0.3)\n",
        "  val_texts, test_texts, val_labels, test_labels = train_test_split(temp_texts, temp_labels, test_size=0.5)\n",
        "  # Save the training, validation, and testing data to CSV files\n",
        "  train_df = pd.DataFrame({'text': train_texts, 'label': train_labels})\n",
        "  val_df = pd.DataFrame({'text': val_texts, 'label': val_labels})\n",
        "  test_df = pd.DataFrame({'text': test_texts, 'label': test_labels})\n",
        "\n",
        "  train_df.to_csv('train.csv', index=False)\n",
        "  val_df.to_csv('val.csv', index=False)\n",
        "  test_df.to_csv('test.csv', index=False)"
      ],
      "metadata": {
        "id": "ilBbJ0NOQx-Q"
      },
      "execution_count": null,
      "outputs": []
    },
    {
      "cell_type": "code",
      "execution_count": null,
      "metadata": {
        "id": "Ak5XVxKr7Asb"
      },
      "outputs": [],
      "source": [
        "load_saved_model=False"
      ]
    },
    {
      "cell_type": "code",
      "execution_count": null,
      "metadata": {
        "id": "mag1CBVD526P"
      },
      "outputs": [],
      "source": [
        "    # output_base_dir='/content/drive/My Drive/CounterspeechProject/HaterReentryModels/results'\n",
        "    results_dir='./results'\n",
        "    output_base_dir='./results'\n",
        "    num_epochs = 10\n"
      ]
    },
    {
      "cell_type": "code",
      "execution_count": null,
      "metadata": {
        "id": "6_shQoEkXor0",
        "colab": {
          "base_uri": "https://localhost:8080/"
        },
        "outputId": "5882f8af-142e-4053-eff1-d01da546bad8"
      },
      "outputs": [
        {
          "output_type": "stream",
          "name": "stderr",
          "text": [
            "/usr/local/lib/python3.10/dist-packages/huggingface_hub/utils/_auth.py:104: UserWarning: \n",
            "Error while fetching `HF_TOKEN` secret value from your vault: 'Requesting secret HF_TOKEN timed out. Secrets can only be fetched when running from the Colab UI.'.\n",
            "You are not authenticated with the Hugging Face Hub in this notebook.\n",
            "If the error persists, please let us know by opening an issue on GitHub (https://github.com/huggingface/huggingface_hub/issues/new).\n",
            "  warnings.warn(\n"
          ]
        }
      ],
      "source": [
        "\n",
        "\n",
        "# Load the BERT tokenizer\n",
        "# tokenizer = BertTokenizer.from_pretrained('bert-base-uncased')\n",
        "output_dir = f\"./results_retrain/epoch_50\"\n",
        "\n",
        "if load_saved_model:\n",
        "  # Load the model later\n",
        "  # Example: Load the model from epoch 1\n",
        "  loaded_model = RobertaForSequenceClassification.from_pretrained(output_dir)\n",
        "  loaded_tokenizer = RobertaTokenizer.from_pretrained(output_dir)\n",
        "  # Use the loaded model and tokenizer for inference or further training\n",
        "else:\n",
        "  # Load the RoBERTa tokenizer\n",
        "  loaded_tokenizer = RobertaTokenizer.from_pretrained('roberta-base')\n",
        "\n",
        "tokenizer = loaded_tokenizer\n",
        "\n",
        "# Tokenize the data\n",
        "train_encodings = tokenizer(list(train_texts), truncation=True, padding=True)\n",
        "val_encodings = tokenizer(list(val_texts), truncation=True, padding=True)\n",
        "test_encodings = tokenizer(list(test_texts), truncation=True, padding=True)"
      ]
    },
    {
      "cell_type": "code",
      "execution_count": null,
      "metadata": {
        "colab": {
          "base_uri": "https://localhost:8080/"
        },
        "id": "e4yhNzFNftqz",
        "outputId": "cda5ca16-2689-43a4-f2ee-970269cda1fe"
      },
      "outputs": [
        {
          "output_type": "stream",
          "name": "stdout",
          "text": [
            "dict_keys(['input_ids', 'attention_mask'])\n",
            "dict_keys(['input_ids', 'attention_mask'])\n",
            "dict_keys(['input_ids', 'attention_mask'])\n",
            "19558\n",
            "4192\n",
            "4191\n",
            "RangeIndex(start=0, stop=27941, step=1)\n"
          ]
        }
      ],
      "source": [
        "# Inspect the encodings\n",
        "print(train_encodings.keys())\n",
        "print(val_encodings.keys())\n",
        "print(test_encodings.keys())\n",
        "\n",
        "print(len(train_labels))\n",
        "print(len(test_labels))\n",
        "print(len(val_labels))\n",
        "print(df.index)\n"
      ]
    },
    {
      "cell_type": "code",
      "execution_count": null,
      "metadata": {
        "colab": {
          "base_uri": "https://localhost:8080/"
        },
        "id": "-YkBfB5ZgTKm",
        "outputId": "874b9a17-2467-4ba6-be0f-1a752ecc63b6"
      },
      "outputs": [
        {
          "output_type": "stream",
          "name": "stdout",
          "text": [
            "Training dataset length: 19558\n",
            "Validation dataset length: 4191\n",
            "Testing dataset length: 4192\n"
          ]
        }
      ],
      "source": [
        "# Convert the data into torch datasets\n",
        "class CounterSpeechDataset(torch.utils.data.Dataset):\n",
        "    def __init__(self, encodings, labels):\n",
        "        self.encodings = encodings\n",
        "        self.labels = labels.reset_index(drop=True) # Reset the index of labels to avoid KeyError\n",
        "\n",
        "    def __getitem__(self, idx):\n",
        "         # Check if the index is within the bounds\n",
        "        if idx >= len(self.labels):\n",
        "            raise IndexError(f\"Index {idx} is out of range for dataset of length {len(self.labels)}\")\n",
        "        item = {key: torch.tensor(val[idx]) for key, val in self.encodings.items()}\n",
        "        item['labels'] = torch.tensor(self.labels[idx])\n",
        "        return item\n",
        "\n",
        "    def __len__(self):\n",
        "        return len(self.labels)\n",
        "\n",
        "# Create the datasets with the updated class\n",
        "train_dataset = CounterSpeechDataset(train_encodings, train_labels)\n",
        "val_dataset = CounterSpeechDataset(val_encodings, val_labels)\n",
        "test_dataset = CounterSpeechDataset(test_encodings, test_labels)\n",
        "\n",
        "\n",
        "# Verify the lengths of the datasets\n",
        "print(f\"Training dataset length: {len(train_dataset)}\")\n",
        "print(f\"Validation dataset length: {len(val_dataset)}\")\n",
        "print(f\"Testing dataset length: {len(test_dataset)}\")\n"
      ]
    },
    {
      "cell_type": "code",
      "execution_count": null,
      "metadata": {
        "id": "SBndKrGrVMcv"
      },
      "outputs": [],
      "source": [
        "# Load the BERT model for sequence classification\n",
        "# model = BertForSequenceClassification.from_pretrained('bert-base-uncased', num_labels=3)\n",
        "\n",
        "# Freeze all BERT layers\n",
        "# for param in model.bert.parameters():\n",
        "#     param.requires_grad = False\n"
      ]
    },
    {
      "cell_type": "code",
      "execution_count": null,
      "metadata": {
        "colab": {
          "base_uri": "https://localhost:8080/",
          "height": 104,
          "referenced_widgets": [
            "a2eabcd0e90647888484c234d09b4d48",
            "a04d2986c34a458bb33e0218163387c0",
            "9617ff4de3a8454a9cb877091cb22af0",
            "8bfd72543b6c4001b7ba6f095192e33e",
            "bc815220c507495db5a2cc6261ec17f0",
            "87bff5fea86348efb53f60e385d97349",
            "bc491ddbecfe4a0e8143bf7f711f095c",
            "c4c07a60afd044fc8d8d4fa493775cdc",
            "78139ffc18d54446964a01a534db14e3",
            "9c6d72123c504521a2cb7f7942efcb77",
            "1960a5e7c4b04298bfc5eb4b9f452ced"
          ]
        },
        "id": "EMKLcKwjVNmQ",
        "outputId": "27b607bb-bd26-4595-b4d7-d994268f4661"
      },
      "outputs": [
        {
          "output_type": "display_data",
          "data": {
            "text/plain": [
              "model.safetensors:   0%|          | 0.00/499M [00:00<?, ?B/s]"
            ],
            "application/vnd.jupyter.widget-view+json": {
              "version_major": 2,
              "version_minor": 0,
              "model_id": "a2eabcd0e90647888484c234d09b4d48"
            }
          },
          "metadata": {}
        },
        {
          "output_type": "stream",
          "name": "stderr",
          "text": [
            "Some weights of RobertaForSequenceClassification were not initialized from the model checkpoint at roberta-base and are newly initialized: ['classifier.dense.bias', 'classifier.dense.weight', 'classifier.out_proj.bias', 'classifier.out_proj.weight']\n",
            "You should probably TRAIN this model on a down-stream task to be able to use it for predictions and inference.\n"
          ]
        }
      ],
      "source": [
        "# Load the RoBERTa model for sequence classification\n",
        "model = RobertaForSequenceClassification.from_pretrained('roberta-base', num_labels=3)\n",
        "\n",
        "# Freeze all RoBERTa layers\n",
        "for param in model.roberta.parameters():\n",
        "    param.requires_grad = False\n"
      ]
    },
    {
      "cell_type": "code",
      "execution_count": null,
      "metadata": {
        "colab": {
          "base_uri": "https://localhost:8080/"
        },
        "id": "pNE771XxRNkf",
        "outputId": "e654994a-dec0-4856-96cf-43fbcdd09f8f"
      },
      "outputs": [
        {
          "output_type": "stream",
          "name": "stderr",
          "text": [
            "/usr/local/lib/python3.10/dist-packages/transformers/training_args.py:1575: FutureWarning: `evaluation_strategy` is deprecated and will be removed in version 4.46 of 🤗 Transformers. Use `eval_strategy` instead\n",
            "  warnings.warn(\n"
          ]
        }
      ],
      "source": [
        "# Define the training arguments\n",
        "training_args = TrainingArguments(\n",
        "    output_dir=results_dir,\n",
        "    num_train_epochs=num_epochs,\n",
        "    per_device_train_batch_size=8,\n",
        "    per_device_eval_batch_size=8,\n",
        "    warmup_steps=500,\n",
        "    weight_decay=0.01,\n",
        "    logging_dir='./logs',\n",
        "    logging_steps=10,\n",
        "    eval_strategy=\"epoch\",  # Evaluate at the end of each epoch\n",
        "    save_strategy=\"epoch\",  # Save the model at the end of each epoch\n",
        "    load_best_model_at_end=True,  # Load the best model at the end of training\n",
        "    evaluation_strategy=\"epoch\",  # Evaluate at the end of each epoch\n",
        "    report_to=[]  # Disable W&B logging\n",
        ")"
      ]
    },
    {
      "cell_type": "code",
      "execution_count": null,
      "metadata": {
        "id": "TL109j2XLAeD"
      },
      "outputs": [],
      "source": [
        "# # Create a custom callback to log training and validation losses and save the model\n",
        "# class LossLoggerCallback(TrainerCallback):\n",
        "#     def __init__(self, trainer):\n",
        "#         self.trainer = trainer\n",
        "\n",
        "#     def on_epoch_end(self, args, state, control, **kwargs):\n",
        "#         print(f\"Epoch {state.epoch}:\")\n",
        "#         # Safely access the training and evaluation loss\n",
        "#         train_loss = state.log_history[-2].get('loss', 'N/A')\n",
        "#         eval_loss = state.log_history[-1].get('eval_loss', 'N/A')\n",
        "#         print(f\"  Training Loss: {train_loss}\")\n",
        "#         print(f\"  Validation Loss: {eval_loss}\")\n",
        "#         # Save the model at the end of each epoch\n",
        "#         output_dir = f\"{output_base_dir}/epoch_{int(state.epoch)}\"\n",
        "#         self.trainer.model.save_pretrained(output_dir)\n",
        "#         self.trainer.tokenizer.save_pretrained(output_dir)"
      ]
    },
    {
      "cell_type": "code",
      "source": [
        "\n",
        "from sklearn.metrics import accuracy_score  # Add this line\n",
        "import matplotlib.pyplot as plt\n",
        "\n",
        "# Enable interactive mode\n",
        "plt.ion()\n",
        "\n",
        "# Create the figure and axes once\n",
        "fig, ax = plt.subplots()\n",
        "line, = ax.plot([], [], label='Test Accuracy')  # Create an empty line object\n",
        "ax.set_xlabel('Epoch')\n",
        "ax.set_ylabel('Accuracy')\n",
        "ax.set_title('Test Accuracy over Epochs')\n",
        "ax.legend()\n",
        "\n",
        "# Create a custom callback to log training and validation losses\n",
        "class LossLoggerCallback(TrainerCallback):\n",
        "    def __init__(self, trainer, fig, line, ax):\n",
        "        self.trainer = trainer\n",
        "        self.train_losses = [] # Store training losses\n",
        "        self.eval_losses = [] # Store validation losses\n",
        "        self.test_accuracies = [] # Store test accuracies\n",
        "        self.fig, self.ax = fig, ax # you need to define fig and ax here\n",
        "        self.line = line\n",
        "\n",
        "    def on_epoch_end(self, args, state, control, **kwargs):\n",
        "        # Log training and validation loss\n",
        "        train_loss = state.log_history[-2].get('loss', 'N/A')\n",
        "        eval_loss = state.log_history[-1].get('eval_loss', 'N/A')\n",
        "        self.train_losses.append(train_loss)\n",
        "        self.eval_losses.append(eval_loss)\n",
        "        print(f\"  Training Loss: {train_loss}\")\n",
        "        print(f\"  Validation Loss: {eval_loss}\")\n",
        "        # Save the model at the end of each epoch\n",
        "        output_dir = f\"{output_base_dir}/epoch_{int(state.epoch)}\"\n",
        "        self.trainer.model.save_pretrained(output_dir)\n",
        "      #  self.trainer.tokenizer.save_pretrained(output_dir)\n",
        "        self.trainer.processing_class.save_pretrained(output_dir)\n",
        "\n",
        "        # # Visualize losses using matplotlib\n",
        "        # plt.plot(self.train_losses, label='Training Loss')\n",
        "        # plt.plot(self.eval_losses, label='Validation Loss')\n",
        "        # plt.xlabel('Epoch')\n",
        "        # plt.ylabel('Loss')\n",
        "        # plt.legend()\n",
        "        # plt.show()\n",
        "        # Evaluate on test set and store accuracy\n",
        "        test_predictions = self.trainer.predict(test_dataset)\n",
        "        test_preds = test_predictions.predictions.argmax(-1)\n",
        "        test_accuracy = accuracy_score(test_labels, test_preds) # Assuming you have accuracy_score imported\n",
        "        self.test_accuracies.append(test_accuracy)\n",
        "        print(f\"  Test Accuracy: {test_accuracy}\")\n",
        "\n",
        "        # Update the plot data\n",
        "        self.line.set_data(range(1, len(self.test_accuracies) + 1), self.test_accuracies)\n",
        "        # Adjust the plot limits if necessary\n",
        "        self.ax.relim()\n",
        "        self.ax.autoscale_view()\n",
        "        # Redraw the plot\n",
        "        self.fig.canvas.draw_idle()\n",
        "        self.fig.canvas.flush_events()\n",
        "\n",
        "    def plot_test_accuracy(self):\n",
        "      plt.plot(self.test_accuracies, label='Test Accuracy')\n",
        "      plt.xlabel('Epoch')\n",
        "      plt.ylabel('Accuracy')\n",
        "      plt.legend()\n",
        "      plt.title('Test Accuracy over Epochs')\n",
        "      plt.show()\n",
        "\n",
        "#  # Add the callback to the Trainer\n",
        "#  trainer.add_callback(LossLoggerCallback(trainer))"
      ],
      "metadata": {
        "id": "Np27_gt9HpHQ",
        "colab": {
          "base_uri": "https://localhost:8080/",
          "height": 472
        },
        "outputId": "55b5056f-28c6-4fd0-f5ea-4b1de8b27fa4"
      },
      "execution_count": null,
      "outputs": [
        {
          "output_type": "display_data",
          "data": {
            "text/plain": [
              "<Figure size 640x480 with 1 Axes>"
            ],
            "image/png": "[encoded data removed]"
          },
          "metadata": {}
        }
      ]
    },
    {
      "cell_type": "code",
      "execution_count": null,
      "metadata": {
        "colab": {
          "base_uri": "https://localhost:8080/"
        },
        "id": "8Djhil_ugmE7",
        "outputId": "28ff6abd-da30-4367-ddfd-a04db07dfc3e"
      },
      "outputs": [
        {
          "output_type": "stream",
          "name": "stderr",
          "text": [
            "<ipython-input-28-b70da8473682>:2: FutureWarning: `tokenizer` is deprecated and will be removed in version 5.0.0 for `Trainer.__init__`. Use `processing_class` instead.\n",
            "  trainer = Trainer(\n",
            "You are adding a <class '__main__.LossLoggerCallback'> to the callbacks of this Trainer, but there is already one. The currentlist of callbacks is\n",
            ":DefaultFlowCallback\n",
            "NotebookProgressCallback\n",
            "LossLoggerCallback\n"
          ]
        }
      ],
      "source": [
        "\n",
        "# Create the Trainer instance with EarlyStoppingCallback and LossLoggerCallback\n",
        "trainer = Trainer(\n",
        "    model=model,\n",
        "    args=training_args,\n",
        "    train_dataset=train_dataset,\n",
        "    eval_dataset=val_dataset,  # Pass the validation dataset\n",
        "    # callbacks=[LossLoggerCallback(trainer)],  # Add loss logging\n",
        "    # callbacks=[EarlyStoppingCallback(early_stopping_patience=3), LossLoggerCallback()]  # Add early stopping and loss logging\n",
        "    tokenizer=tokenizer  # Pass the tokenizer to the Trainer\n",
        ")\n",
        "\n",
        "# Instantiate LossLoggerCallback after Trainer is created\n",
        "# loss_logger_callback = LossLoggerCallback(trainer)\n",
        "\n",
        "# Create an instance of the callback, passing the figure and line objects\n",
        "loss_logger_callback = LossLoggerCallback(trainer, fig, line, ax)\n",
        "trainer.add_callback(loss_logger_callback)\n",
        "\n",
        "# Add the callback to the Trainer\n",
        "trainer.add_callback(loss_logger_callback)"
      ]
    },
    {
      "cell_type": "code",
      "execution_count": null,
      "metadata": {
        "id": "6t3yk7U-QGuh"
      },
      "outputs": [],
      "source": [
        "\n",
        "# # Create the Trainer instance with EarlyStoppingCallback and LossLoggerCallback\n",
        "# trainer = Trainer(\n",
        "#     model=model,\n",
        "#     args=training_args,\n",
        "#     train_dataset=train_dataset,\n",
        "#     eval_dataset=val_dataset,  # Pass the validation dataset\n",
        "#     callbacks=[LossLoggerCallback(trainer)],  # Add loss logging\n",
        "#     # callbacks=[EarlyStoppingCallback(early_stopping_patience=3), LossLoggerCallback()]  # Add early stopping and loss logging\n",
        "#     tokenizer=tokenizer  # Pass the tokenizer to the Trainer\n",
        "# )\n"
      ]
    },
    {
      "cell_type": "code",
      "execution_count": null,
      "metadata": {
        "colab": {
          "base_uri": "https://localhost:8080/",
          "height": 1000
        },
        "collapsed": true,
        "id": "7jgFNIeGTTAF",
        "outputId": "909b060b-3fdd-482c-e7b1-5f15b6b02a3d"
      },
      "outputs": [
        {
          "output_type": "display_data",
          "data": {
            "text/plain": [
              "<IPython.core.display.HTML object>"
            ],
            "text/html": [
              "\n",
              "    <div>\n",
              "      \n",
              "      <progress value='24450' max='24450' style='width:300px; height:20px; vertical-align: middle;'></progress>\n",
              "      [24450/24450 1:05:21, Epoch 10/10]\n",
              "    </div>\n",
              "    <table border=\"1\" class=\"dataframe\">\n",
              "  <thead>\n",
              " <tr style=\"text-align: left;\">\n",
              "      <th>Epoch</th>\n",
              "      <th>Training Loss</th>\n",
              "      <th>Validation Loss</th>\n",
              "    </tr>\n",
              "  </thead>\n",
              "  <tbody>\n",
              "    <tr>\n",
              "      <td>1</td>\n",
              "      <td>1.009600</td>\n",
              "      <td>1.015682</td>\n",
              "    </tr>\n",
              "    <tr>\n",
              "      <td>2</td>\n",
              "      <td>1.034700</td>\n",
              "      <td>1.005193</td>\n",
              "    </tr>\n",
              "    <tr>\n",
              "      <td>3</td>\n",
              "      <td>0.997200</td>\n",
              "      <td>0.995006</td>\n",
              "    </tr>\n",
              "    <tr>\n",
              "      <td>4</td>\n",
              "      <td>0.958300</td>\n",
              "      <td>0.991166</td>\n",
              "    </tr>\n",
              "    <tr>\n",
              "      <td>5</td>\n",
              "      <td>1.016800</td>\n",
              "      <td>0.990835</td>\n",
              "    </tr>\n",
              "    <tr>\n",
              "      <td>6</td>\n",
              "      <td>0.928400</td>\n",
              "      <td>0.991466</td>\n",
              "    </tr>\n",
              "    <tr>\n",
              "      <td>7</td>\n",
              "      <td>1.021600</td>\n",
              "      <td>0.988307</td>\n",
              "    </tr>\n",
              "    <tr>\n",
              "      <td>8</td>\n",
              "      <td>1.060600</td>\n",
              "      <td>0.986895</td>\n",
              "    </tr>\n",
              "    <tr>\n",
              "      <td>9</td>\n",
              "      <td>0.951200</td>\n",
              "      <td>0.987701</td>\n",
              "    </tr>\n",
              "    <tr>\n",
              "      <td>10</td>\n",
              "      <td>1.004500</td>\n",
              "      <td>0.986984</td>\n",
              "    </tr>\n",
              "  </tbody>\n",
              "</table><p>"
            ]
          },
          "metadata": {}
        },
        {
          "output_type": "stream",
          "name": "stdout",
          "text": [
            "  Training Loss: 0.9308\n",
            "  Validation Loss: N/A\n",
            "  Test Accuracy: 0.48377862595419846\n",
            "  Training Loss: 0.9308\n",
            "  Validation Loss: N/A\n",
            "  Test Accuracy: 0.48377862595419846\n",
            "  Training Loss: 1.0487\n",
            "  Validation Loss: N/A\n",
            "  Test Accuracy: 0.48974236641221375\n",
            "  Training Loss: 1.0487\n",
            "  Validation Loss: N/A\n",
            "  Test Accuracy: 0.48974236641221375\n",
            "  Training Loss: 1.1008\n",
            "  Validation Loss: N/A\n",
            "  Test Accuracy: 0.5014312977099237\n",
            "  Training Loss: 1.1008\n",
            "  Validation Loss: N/A\n",
            "  Test Accuracy: 0.5014312977099237\n",
            "  Training Loss: 0.9997\n",
            "  Validation Loss: N/A\n",
            "  Test Accuracy: 0.5004770992366412\n",
            "  Training Loss: 0.9997\n",
            "  Validation Loss: N/A\n",
            "  Test Accuracy: 0.5004770992366412\n",
            "  Training Loss: 0.9946\n",
            "  Validation Loss: N/A\n",
            "  Test Accuracy: 0.5054866412213741\n",
            "  Training Loss: 0.9946\n",
            "  Validation Loss: N/A\n",
            "  Test Accuracy: 0.5054866412213741\n",
            "  Training Loss: 0.9282\n",
            "  Validation Loss: N/A\n",
            "  Test Accuracy: 0.4978530534351145\n",
            "  Training Loss: 0.9282\n",
            "  Validation Loss: N/A\n",
            "  Test Accuracy: 0.4978530534351145\n",
            "  Training Loss: 0.9479\n",
            "  Validation Loss: N/A\n",
            "  Test Accuracy: 0.5023854961832062\n",
            "  Training Loss: 0.9479\n",
            "  Validation Loss: N/A\n",
            "  Test Accuracy: 0.5023854961832062\n",
            "  Training Loss: 1.0864\n",
            "  Validation Loss: N/A\n",
            "  Test Accuracy: 0.5069179389312977\n",
            "  Training Loss: 1.0864\n",
            "  Validation Loss: N/A\n",
            "  Test Accuracy: 0.5069179389312977\n",
            "  Training Loss: 1.0101\n",
            "  Validation Loss: N/A\n",
            "  Test Accuracy: 0.5059637404580153\n",
            "  Training Loss: 1.0101\n",
            "  Validation Loss: N/A\n",
            "  Test Accuracy: 0.5059637404580153\n",
            "  Training Loss: 0.8873\n",
            "  Validation Loss: N/A\n",
            "  Test Accuracy: 0.5083492366412213\n",
            "  Training Loss: 0.8873\n",
            "  Validation Loss: N/A\n",
            "  Test Accuracy: 0.5083492366412213\n"
          ]
        }
      ],
      "source": [
        "\n",
        "# Train the model\n",
        "try:\n",
        "    trainer.train()\n",
        "except Exception as e:\n",
        "    print(f\"Error during training: {e}\")"
      ]
    },
    {
      "cell_type": "markdown",
      "metadata": {
        "id": "5z3bhJ9U1sQL"
      },
      "source": [
        "# New Section"
      ]
    },
    {
      "cell_type": "code",
      "execution_count": null,
      "metadata": {
        "id": "WoQN6igS4db7",
        "colab": {
          "base_uri": "https://localhost:8080/",
          "height": 191
        },
        "outputId": "c84d98c8-c094-49c3-b00c-6f0e8086d245"
      },
      "outputs": [
        {
          "output_type": "display_data",
          "data": {
            "text/plain": [
              "<IPython.core.display.HTML object>"
            ],
            "text/html": []
          },
          "metadata": {}
        },
        {
          "output_type": "display_data",
          "data": {
            "text/plain": [
              "<IPython.core.display.HTML object>"
            ],
            "text/html": []
          },
          "metadata": {}
        },
        {
          "output_type": "stream",
          "name": "stdout",
          "text": [
            "              precision    recall  f1-score   support\n",
            "\n",
            "           0       0.50      0.88      0.64      2023\n",
            "           1       0.61      0.02      0.03       893\n",
            "           2       0.52      0.26      0.34      1276\n",
            "\n",
            "    accuracy                           0.51      4192\n",
            "   macro avg       0.54      0.38      0.34      4192\n",
            "weighted avg       0.53      0.51      0.42      4192\n",
            "\n"
          ]
        }
      ],
      "source": [
        "# Evaluate the model\n",
        "# predictions = trainer.predict(test_dataset)\n",
        "# preds = predictions.predictions.argmax(-1)\n",
        "# print(classification_report(test_labels, preds))\n",
        "\n",
        "# Evaluate the model on the validation dataset\n",
        "val_predictions = trainer.predict(val_dataset)\n",
        "val_preds = val_predictions.predictions.argmax(-1)\n",
        "\n",
        "# Evaluate the model on the test dataset\n",
        "test_predictions = trainer.predict(test_dataset)\n",
        "test_preds = test_predictions.predictions.argmax(-1)\n",
        "\n",
        "print(classification_report(test_labels, test_preds))"
      ]
    },
    {
      "cell_type": "code",
      "source": [
        "# After training is complete\n",
        "loss_logger_callback.plot_test_accuracy()"
      ],
      "metadata": {
        "colab": {
          "base_uri": "https://localhost:8080/",
          "height": 472
        },
        "id": "RKQhRVFwIO9K",
        "outputId": "7bdefe06-50c0-4ae4-e020-bff60082c1c5"
      },
      "execution_count": null,
      "outputs": [
        {
          "output_type": "display_data",
          "data": {
            "text/plain": [
              "<Figure size 640x480 with 1 Axes>"
            ],
            "image/png": "[encoded data removed]"
          },
          "metadata": {}
        }
      ]
    },
    {
      "cell_type": "code",
      "execution_count": null,
      "metadata": {
        "id": "U5HlT7BeSroX",
        "colab": {
          "base_uri": "https://localhost:8080/",
          "height": 472
        },
        "outputId": "472e3bf8-b1a4-483d-b9e2-9028efb46dcd"
      },
      "outputs": [
        {
          "output_type": "display_data",
          "data": {
            "text/plain": [
              "<Figure size 640x480 with 1 Axes>"
            ],
            "image/png": "[encoded data removed]"
          },
          "metadata": {}
        }
      ],
      "source": [
        "# Compute ROC curve and ROC area for each class for validation and test datasets\n",
        "fpr_val = dict()\n",
        "tpr_val = dict()\n",
        "roc_auc_val = dict()\n",
        "fpr_test = dict()\n",
        "tpr_test = dict()\n",
        "roc_auc_test = dict()\n",
        "\n",
        "for i in range(3):\n",
        "    fpr_val[i], tpr_val[i], _ = roc_curve(val_labels, val_predictions.predictions[:, i], pos_label=i)\n",
        "    roc_auc_val[i] = auc(fpr_val[i], tpr_val[i])\n",
        "    fpr_test[i], tpr_test[i], _ = roc_curve(test_labels, test_predictions.predictions[:, i], pos_label=i)\n",
        "    roc_auc_test[i] = auc(fpr_test[i], tpr_test[i])\n",
        "\n",
        "# Plot ROC curve\n",
        "plt.figure()\n",
        "for i in range(3):\n",
        "    plt.plot(fpr_val[i], tpr_val[i], label=f'Validation Class {i} (area = {roc_auc_val[i]:.2f})')\n",
        "    plt.plot(fpr_test[i], tpr_test[i], label=f'Test Class {i} (area = {roc_auc_test[i]:.2f})')\n",
        "plt.plot([0, 1], [0, 1], 'k--')\n",
        "plt.xlim([0.0, 1.0])\n",
        "plt.ylim([0.0, 1.05])\n",
        "plt.xlabel('False Positive Rate')\n",
        "plt.ylabel('True Positive Rate')\n",
        "plt.title('Receiver Operating Characteristic (ROC) Curve')\n",
        "plt.legend(loc='lower right')\n",
        "plt.show()"
      ]
    },
    {
      "cell_type": "code",
      "source": [
        "# !zip -r results_retrain_epoch10.zip results_retrain/epoch_10"
      ],
      "metadata": {
        "id": "v6crNhzvHb_P"
      },
      "execution_count": null,
      "outputs": []
    },
    {
      "cell_type": "code",
      "source": [
        "# files.download('results_retrain.zip')"
      ],
      "metadata": {
        "id": "JxzAo4zhIWX8"
      },
      "execution_count": null,
      "outputs": []
    }
  ],
  "metadata": {
    "accelerator": "GPU",
    "colab": {
      "gpuType": "T4",
      "machine_shape": "hm",
      "provenance": [],
      "mount_file_id": "1QyOcuQQDbtkc6AzZg8wm-mgK8rOujDHp",
      "authorship_tag": "ABX9TyMKs8aRVOVIMVH/NoiHF+zJ",
      "include_colab_link": true
    },
    "kernelspec": {
      "display_name": "Python 3",
      "name": "python3"
    },
    "language_info": {
      "name": "python"
    },
    "widgets": {
      "application/vnd.jupyter.widget-state+json": {
        "a2eabcd0e90647888484c234d09b4d48": {
          "model_module": "@jupyter-widgets/controls",
          "model_name": "HBoxModel",
          "model_module_version": "1.5.0",
          "state": {
            "_dom_classes": [],
            "_model_module": "@jupyter-widgets/controls",
            "_model_module_version": "1.5.0",
            "_model_name": "HBoxModel",
            "_view_count": null,
            "_view_module": "@jupyter-widgets/controls",
            "_view_module_version": "1.5.0",
            "_view_name": "HBoxView",
            "box_style": "",
            "children": [
              "IPY_MODEL_a04d2986c34a458bb33e0218163387c0",
              "IPY_MODEL_9617ff4de3a8454a9cb877091cb22af0",
              "IPY_MODEL_8bfd72543b6c4001b7ba6f095192e33e"
            ],
            "layout": "IPY_MODEL_bc815220c507495db5a2cc6261ec17f0"
          }
        },
        "a04d2986c34a458bb33e0218163387c0": {
          "model_module": "@jupyter-widgets/controls",
          "model_name": "HTMLModel",
          "model_module_version": "1.5.0",
          "state": {
            "_dom_classes": [],
            "_model_module": "@jupyter-widgets/controls",
            "_model_module_version": "1.5.0",
            "_model_name": "HTMLModel",
            "_view_count": null,
            "_view_module": "@jupyter-widgets/controls",
            "_view_module_version": "1.5.0",
            "_view_name": "HTMLView",
            "description": "",
            "description_tooltip": null,
            "layout": "IPY_MODEL_87bff5fea86348efb53f60e385d97349",
            "placeholder": "​",
            "style": "IPY_MODEL_bc491ddbecfe4a0e8143bf7f711f095c",
            "value": "model.safetensors: 100%"
          }
        },
        "9617ff4de3a8454a9cb877091cb22af0": {
          "model_module": "@jupyter-widgets/controls",
          "model_name": "FloatProgressModel",
          "model_module_version": "1.5.0",
          "state": {
            "_dom_classes": [],
            "_model_module": "@jupyter-widgets/controls",
            "_model_module_version": "1.5.0",
            "_model_name": "FloatProgressModel",
            "_view_count": null,
            "_view_module": "@jupyter-widgets/controls",
            "_view_module_version": "1.5.0",
            "_view_name": "ProgressView",
            "bar_style": "success",
            "description": "",
            "description_tooltip": null,
            "layout": "IPY_MODEL_c4c07a60afd044fc8d8d4fa493775cdc",
            "max": 498818054,
            "min": 0,
            "orientation": "horizontal",
            "style": "IPY_MODEL_78139ffc18d54446964a01a534db14e3",
            "value": 498818054
          }
        },
        "8bfd72543b6c4001b7ba6f095192e33e": {
          "model_module": "@jupyter-widgets/controls",
          "model_name": "HTMLModel",
          "model_module_version": "1.5.0",
          "state": {
            "_dom_classes": [],
            "_model_module": "@jupyter-widgets/controls",
            "_model_module_version": "1.5.0",
            "_model_name": "HTMLModel",
            "_view_count": null,
            "_view_module": "@jupyter-widgets/controls",
            "_view_module_version": "1.5.0",
            "_view_name": "HTMLView",
            "description": "",
            "description_tooltip": null,
            "layout": "IPY_MODEL_9c6d72123c504521a2cb7f7942efcb77",
            "placeholder": "​",
            "style": "IPY_MODEL_1960a5e7c4b04298bfc5eb4b9f452ced",
            "value": " 499M/499M [00:23&lt;00:00, 20.2MB/s]"
          }
        },
        "bc815220c507495db5a2cc6261ec17f0": {
          "model_module": "@jupyter-widgets/base",
          "model_name": "LayoutModel",
          "model_module_version": "1.2.0",
          "state": {
            "_model_module": "@jupyter-widgets/base",
            "_model_module_version": "1.2.0",
            "_model_name": "LayoutModel",
            "_view_count": null,
            "_view_module": "@jupyter-widgets/base",
            "_view_module_version": "1.2.0",
            "_view_name": "LayoutView",
            "align_content": null,
            "align_items": null,
            "align_self": null,
            "border": null,
            "bottom": null,
            "display": null,
            "flex": null,
            "flex_flow": null,
            "grid_area": null,
            "grid_auto_columns": null,
            "grid_auto_flow": null,
            "grid_auto_rows": null,
            "grid_column": null,
            "grid_gap": null,
            "grid_row": null,
            "grid_template_areas": null,
            "grid_template_columns": null,
            "grid_template_rows": null,
            "height": null,
            "justify_content": null,
            "justify_items": null,
            "left": null,
            "margin": null,
            "max_height": null,
            "max_width": null,
            "min_height": null,
            "min_width": null,
            "object_fit": null,
            "object_position": null,
            "order": null,
            "overflow": null,
            "overflow_x": null,
            "overflow_y": null,
            "padding": null,
            "right": null,
            "top": null,
            "visibility": null,
            "width": null
          }
        },
        "87bff5fea86348efb53f60e385d97349": {
          "model_module": "@jupyter-widgets/base",
          "model_name": "LayoutModel",
          "model_module_version": "1.2.0",
          "state": {
            "_model_module": "@jupyter-widgets/base",
            "_model_module_version": "1.2.0",
            "_model_name": "LayoutModel",
            "_view_count": null,
            "_view_module": "@jupyter-widgets/base",
            "_view_module_version": "1.2.0",
            "_view_name": "LayoutView",
            "align_content": null,
            "align_items": null,
            "align_self": null,
            "border": null,
            "bottom": null,
            "display": null,
            "flex": null,
            "flex_flow": null,
            "grid_area": null,
            "grid_auto_columns": null,
            "grid_auto_flow": null,
            "grid_auto_rows": null,
            "grid_column": null,
            "grid_gap": null,
            "grid_row": null,
            "grid_template_areas": null,
            "grid_template_columns": null,
            "grid_template_rows": null,
            "height": null,
            "justify_content": null,
            "justify_items": null,
            "left": null,
            "margin": null,
            "max_height": null,
            "max_width": null,
            "min_height": null,
            "min_width": null,
            "object_fit": null,
            "object_position": null,
            "order": null,
            "overflow": null,
            "overflow_x": null,
            "overflow_y": null,
            "padding": null,
            "right": null,
            "top": null,
            "visibility": null,
            "width": null
          }
        },
        "bc491ddbecfe4a0e8143bf7f711f095c": {
          "model_module": "@jupyter-widgets/controls",
          "model_name": "DescriptionStyleModel",
          "model_module_version": "1.5.0",
          "state": {
            "_model_module": "@jupyter-widgets/controls",
            "_model_module_version": "1.5.0",
            "_model_name": "DescriptionStyleModel",
            "_view_count": null,
            "_view_module": "@jupyter-widgets/base",
            "_view_module_version": "1.2.0",
            "_view_name": "StyleView",
            "description_width": ""
          }
        },
        "c4c07a60afd044fc8d8d4fa493775cdc": {
          "model_module": "@jupyter-widgets/base",
          "model_name": "LayoutModel",
          "model_module_version": "1.2.0",
          "state": {
            "_model_module": "@jupyter-widgets/base",
            "_model_module_version": "1.2.0",
            "_model_name": "LayoutModel",
            "_view_count": null,
            "_view_module": "@jupyter-widgets/base",
            "_view_module_version": "1.2.0",
            "_view_name": "LayoutView",
            "align_content": null,
            "align_items": null,
            "align_self": null,
            "border": null,
            "bottom": null,
            "display": null,
            "flex": null,
            "flex_flow": null,
            "grid_area": null,
            "grid_auto_columns": null,
            "grid_auto_flow": null,
            "grid_auto_rows": null,
            "grid_column": null,
            "grid_gap": null,
            "grid_row": null,
            "grid_template_areas": null,
            "grid_template_columns": null,
            "grid_template_rows": null,
            "height": null,
            "justify_content": null,
            "justify_items": null,
            "left": null,
            "margin": null,
            "max_height": null,
            "max_width": null,
            "min_height": null,
            "min_width": null,
            "object_fit": null,
            "object_position": null,
            "order": null,
            "overflow": null,
            "overflow_x": null,
            "overflow_y": null,
            "padding": null,
            "right": null,
            "top": null,
            "visibility": null,
            "width": null
          }
        },
        "78139ffc18d54446964a01a534db14e3": {
          "model_module": "@jupyter-widgets/controls",
          "model_name": "ProgressStyleModel",
          "model_module_version": "1.5.0",
          "state": {
            "_model_module": "@jupyter-widgets/controls",
            "_model_module_version": "1.5.0",
            "_model_name": "ProgressStyleModel",
            "_view_count": null,
            "_view_module": "@jupyter-widgets/base",
            "_view_module_version": "1.2.0",
            "_view_name": "StyleView",
            "bar_color": null,
            "description_width": ""
          }
        },
        "9c6d72123c504521a2cb7f7942efcb77": {
          "model_module": "@jupyter-widgets/base",
          "model_name": "LayoutModel",
          "model_module_version": "1.2.0",
          "state": {
            "_model_module": "@jupyter-widgets/base",
            "_model_module_version": "1.2.0",
            "_model_name": "LayoutModel",
            "_view_count": null,
            "_view_module": "@jupyter-widgets/base",
            "_view_module_version": "1.2.0",
            "_view_name": "LayoutView",
            "align_content": null,
            "align_items": null,
            "align_self": null,
            "border": null,
            "bottom": null,
            "display": null,
            "flex": null,
            "flex_flow": null,
            "grid_area": null,
            "grid_auto_columns": null,
            "grid_auto_flow": null,
            "grid_auto_rows": null,
            "grid_column": null,
            "grid_gap": null,
            "grid_row": null,
            "grid_template_areas": null,
            "grid_template_columns": null,
            "grid_template_rows": null,
            "height": null,
            "justify_content": null,
            "justify_items": null,
            "left": null,
            "margin": null,
            "max_height": null,
            "max_width": null,
            "min_height": null,
            "min_width": null,
            "object_fit": null,
            "object_position": null,
            "order": null,
            "overflow": null,
            "overflow_x": null,
            "overflow_y": null,
            "padding": null,
            "right": null,
            "top": null,
            "visibility": null,
            "width": null
          }
        },
        "1960a5e7c4b04298bfc5eb4b9f452ced": {
          "model_module": "@jupyter-widgets/controls",
          "model_name": "DescriptionStyleModel",
          "model_module_version": "1.5.0",
          "state": {
            "_model_module": "@jupyter-widgets/controls",
            "_model_module_version": "1.5.0",
            "_model_name": "DescriptionStyleModel",
            "_view_count": null,
            "_view_module": "@jupyter-widgets/base",
            "_view_module_version": "1.2.0",
            "_view_name": "StyleView",
            "description_width": ""
          }
        }
      }
    }
  },
  "nbformat": 4,
  "nbformat_minor": 0
}